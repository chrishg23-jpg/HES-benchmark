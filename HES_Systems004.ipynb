{
  "nbformat": 4,
  "nbformat_minor": 0,
  "metadata": {
    "colab": {
      "provenance": [],
      "authorship_tag": "ABX9TyPnqzNyGZ3oAI5gt8ewG9nW",
      "include_colab_link": true
    },
    "kernelspec": {
      "name": "python3",
      "display_name": "Python 3"
    },
    "language_info": {
      "name": "python"
    }
  },
  "cells": [
    {
      "cell_type": "markdown",
      "metadata": {
        "id": "view-in-github",
        "colab_type": "text"
      },
      "source": [
        "<a href=\"https://colab.research.google.com/github/chrishg23-jpg/HES-benchmark/blob/main/HES_Systems004.ipynb\" target=\"_parent\"><img src=\"https://colab.research.google.com/assets/colab-badge.svg\" alt=\"Open In Colab\"/></a>"
      ]
    },
    {
      "cell_type": "code",
      "execution_count": null,
      "metadata": {
        "colab": {
          "base_uri": "https://localhost:8080/"
        },
        "id": "HF93YLouj60t",
        "outputId": "6de02c0a-e54a-4abd-9f3a-aecb6e609cdf"
      },
      "outputs": [
        {
          "output_type": "stream",
          "name": "stdout",
          "text": [
            "Codex [t=0]: Entity_0 at (0.6523, 0.852) with echo 'frame_0_echo_1.0' from 'lineage_origin_0'\n",
            "Codex [t=0]: Entity_1 at (0.9702, 0.6398) with echo 'frame_0_echo_1.0' from 'lineage_origin_1'\n",
            "Codex [t=0]: Entity_2 at (0.5376, 0.0277) with echo 'frame_0_echo_0.956' from 'lineage_origin_3'\n",
            "Codex [t=0]: Entity_3 at (0.609, 1.0024) with echo 'frame_0_echo_1.0' from 'lineage_origin_3'\n",
            "Codex [t=0]: Entity_4 at (0.7941, 0.9172) with echo 'frame_0_echo_1.0' from 'lineage_origin_4'\n",
            "Codex [t=0]: Recursion depth = 0\n",
            "Codex [t=0]: Curvature estimate = 0.07\n",
            "Codex [t=1]: Entity_0 at (0.6573, 0.857) with echo 'frame_1_echo_0.982' from 'lineage_origin_3'\n",
            "Codex [t=1]: Entity_1 at (0.9752, 0.6448) with echo 'frame_1_echo_1.0' from 'lineage_origin_1'\n",
            "Codex [t=1]: Entity_2 at (0.5426, 0.0327) with echo 'frame_1_echo_0.996' from 'lineage_origin_3'\n",
            "Codex [t=1]: Entity_3 at (0.614, 1.0074) with echo 'frame_1_echo_1.0' from 'lineage_origin_3'\n",
            "Codex [t=1]: Entity_4 at (0.7991, 0.9222) with echo 'frame_1_echo_1.03' from 'lineage_origin_3'\n",
            "Codex [t=1]: Recursion depth = 1\n",
            "Codex [t=1]: Curvature estimate = 0.06\n",
            "Codex [t=2]: Entity_0 at (0.6623, 0.862) with echo 'frame_2_echo_0.982' from 'lineage_origin_3'\n",
            "Codex [t=2]: Entity_1 at (0.9802, 0.6498) with echo 'frame_2_echo_1.0' from 'lineage_origin_1'\n",
            "Codex [t=2]: Entity_2 at (0.5476, 0.0377) with echo 'frame_2_echo_1.02' from 'lineage_origin_3'\n",
            "Codex [t=2]: Entity_3 at (0.619, 1.0124) with echo 'frame_2_echo_1.0' from 'lineage_origin_3'\n",
            "Codex [t=2]: Entity_4 at (0.8041, 0.9272) with echo 'frame_2_echo_0.952' from 'lineage_origin_1'\n",
            "Codex [t=2]: Recursion depth = 2\n",
            "Codex [t=2]: Curvature estimate = 0.06\n",
            "Codex [t=3]: Entity_0 at (0.6673, 0.867) with echo 'frame_3_echo_0.982' from 'lineage_origin_3'\n",
            "Codex [t=3]: Entity_1 at (0.9852, 0.6548) with echo 'frame_3_echo_1.0' from 'lineage_origin_1'\n",
            "Codex [t=3]: Entity_2 at (0.5526, 0.0427) with echo 'frame_3_echo_0.962' from 'lineage_origin_1'\n",
            "Codex [t=3]: Entity_3 at (0.624, 1.0174) with echo 'frame_3_echo_0.933' from 'lineage_origin_3'\n",
            "Codex [t=3]: Entity_4 at (0.8091, 0.9322) with echo 'frame_3_echo_0.952' from 'lineage_origin_1'\n",
            "Codex [t=3]: Recursion depth = 3\n",
            "Codex [t=3]: Curvature estimate = 0.06\n",
            "Codex [t=4]: Entity_0 at (0.6723, 0.872) with echo 'frame_4_echo_0.982' from 'lineage_origin_3'\n",
            "Codex [t=4]: Entity_1 at (0.9902, 0.6598) with echo 'frame_4_echo_1.0' from 'lineage_origin_1'\n",
            "Codex [t=4]: Entity_2 at (0.5576, 0.0477) with echo 'frame_4_echo_0.939' from 'lineage_origin_3'\n",
            "Codex [t=4]: Entity_3 at (0.629, 1.0224) with echo 'frame_4_echo_0.933' from 'lineage_origin_3'\n",
            "Codex [t=4]: Entity_4 at (0.8141, 0.9372) with echo 'frame_4_echo_0.98' from 'lineage_origin_3'\n",
            "Codex [t=4]: Recursion depth = 4\n",
            "Codex [t=4]: Curvature estimate = 0.06\n",
            "Codex [t=5]: Entity_0 at (0.6773, 0.877) with echo 'frame_5_echo_0.982' from 'lineage_origin_3'\n",
            "Codex [t=5]: Entity_1 at (0.9952, 0.6648) with echo 'frame_5_echo_1.0' from 'lineage_origin_1'\n",
            "Codex [t=5]: Entity_2 at (0.5626, 0.0527) with echo 'frame_5_echo_0.939' from 'lineage_origin_3'\n",
            "Codex [t=5]: Entity_3 at (0.634, 1.0274) with echo 'frame_5_echo_0.933' from 'lineage_origin_3'\n",
            "Codex [t=5]: Entity_4 at (0.8191, 0.9422) with echo 'frame_5_echo_0.98' from 'lineage_origin_3'\n",
            "Codex [t=5]: Recursion depth = 5\n",
            "Codex [t=5]: Curvature estimate = 0.07\n",
            "Codex [t=6]: Entity_0 at (0.6823, 0.882) with echo 'frame_6_echo_0.982' from 'lineage_origin_3'\n",
            "Codex [t=6]: Entity_1 at (1.0002, 0.6698) with echo 'frame_6_echo_0.934' from 'lineage_origin_3'\n",
            "Codex [t=6]: Entity_2 at (0.5676, 0.0577) with echo 'frame_6_echo_0.939' from 'lineage_origin_3'\n",
            "Codex [t=6]: Entity_3 at (0.639, 1.0324) with echo 'frame_6_echo_0.983' from 'lineage_origin_3'\n",
            "Codex [t=6]: Entity_4 at (0.8241, 0.9472) with echo 'frame_6_echo_0.955' from 'lineage_origin_3'\n",
            "Codex [t=6]: Recursion depth = 6\n",
            "Codex [t=6]: Curvature estimate = 0.06\n",
            "Codex [t=7]: Entity_0 at (0.6873, 0.887) with echo 'frame_7_echo_0.928' from 'lineage_origin_3'\n",
            "Codex [t=7]: Entity_1 at (1.0052, 0.6748) with echo 'frame_7_echo_0.934' from 'lineage_origin_3'\n",
            "Codex [t=7]: Entity_2 at (0.5726, 0.0627) with echo 'frame_7_echo_0.939' from 'lineage_origin_3'\n",
            "Codex [t=7]: Entity_3 at (0.644, 1.0374) with echo 'frame_7_echo_0.983' from 'lineage_origin_3'\n",
            "Codex [t=7]: Entity_4 at (0.8291, 0.9522) with echo 'frame_7_echo_1.018' from 'lineage_origin_3'\n",
            "Codex [t=7]: Recursion depth = 7\n",
            "Codex [t=7]: Curvature estimate = 0.06\n",
            "Codex [t=8]: Entity_0 at (0.6923, 0.892) with echo 'frame_8_echo_0.928' from 'lineage_origin_3'\n",
            "Codex [t=8]: Entity_1 at (1.0102, 0.6798) with echo 'frame_8_echo_0.934' from 'lineage_origin_3'\n",
            "Codex [t=8]: Entity_2 at (0.5776, 0.0677) with echo 'frame_8_echo_0.939' from 'lineage_origin_3'\n",
            "Codex [t=8]: Entity_3 at (0.649, 1.0424) with echo 'frame_8_echo_0.922' from 'lineage_origin_3'\n",
            "Codex [t=8]: Entity_4 at (0.8341, 0.9572) with echo 'frame_8_echo_1.018' from 'lineage_origin_3'\n",
            "Codex [t=8]: Recursion depth = 8\n",
            "Codex [t=8]: Curvature estimate = 0.06\n",
            "Codex [t=9]: Entity_0 at (0.6973, 0.897) with echo 'frame_9_echo_0.928' from 'lineage_origin_3'\n",
            "Codex [t=9]: Entity_1 at (1.0152, 0.6848) with echo 'frame_9_echo_0.934' from 'lineage_origin_3'\n",
            "Codex [t=9]: Entity_2 at (0.5826, 0.0727) with echo 'frame_9_echo_0.939' from 'lineage_origin_3'\n",
            "Codex [t=9]: Entity_3 at (0.654, 1.0474) with echo 'frame_9_echo_0.916' from 'lineage_origin_3'\n",
            "Codex [t=9]: Entity_4 at (0.8391, 0.9622) with echo 'frame_9_echo_1.018' from 'lineage_origin_3'\n",
            "Codex [t=9]: Recursion depth = 9\n",
            "Codex [t=9]: Curvature estimate = 0.06\n"
          ]
        }
      ],
      "source": [
        "import numpy as np\n",
        "import random\n",
        "\n",
        "# Parameters\n",
        "num_entities = 5\n",
        "num_frames = 10\n",
        "initial_echo = 1.0\n",
        "migration_chance = 0.3  # Probability of echo jumping to another entity\n",
        "mutation_rate = 0.05    # Echo strength mutation during migration\n",
        "drift_rate = 0.005\n",
        "\n",
        "# Initialize entities with random coordinates and echo memory\n",
        "entities = np.random.rand(num_entities, 2)\n",
        "echo_memory = np.full(num_entities, initial_echo)\n",
        "echo_lineage = [f\"origin_{i}\" for i in range(num_entities)]\n",
        "\n",
        "# Storage for codex entries\n",
        "codex = []\n",
        "\n",
        "# Simulation loop\n",
        "for t in range(num_frames):\n",
        "    frame_codex = []\n",
        "\n",
        "    for i in range(num_entities):\n",
        "        # Decide whether to migrate\n",
        "        if random.random() < migration_chance:\n",
        "            target = random.choice([j for j in range(num_entities) if j != i])\n",
        "            echo_memory[i] = echo_memory[target] + np.random.uniform(-mutation_rate, mutation_rate)\n",
        "            echo_lineage[i] = echo_lineage[target]\n",
        "\n",
        "        # Apply gentle drift\n",
        "        entities[i] += drift_rate\n",
        "\n",
        "        echo_tag = f\"frame_{t}_echo_{round(echo_memory[i], 3)}\"\n",
        "        lineage_tag = f\"lineage_{echo_lineage[i]}\"\n",
        "        x, y = round(entities[i][0], 4), round(entities[i][1], 4)\n",
        "        frame_codex.append(f\"Codex [t={t}]: Entity_{i} at ({x}, {y}) with echo '{echo_tag}' from '{lineage_tag}'\")\n",
        "\n",
        "    # Curvature estimate (oscillates with migration)\n",
        "    curvature = round(0.06 + 0.01 * random.choice([-1, 0, 1]), 2)\n",
        "    frame_codex.append(f\"Codex [t={t}]: Recursion depth = {t}\")\n",
        "    frame_codex.append(f\"Codex [t={t}]: Curvature estimate = {curvature}\")\n",
        "\n",
        "    codex.extend(frame_codex)\n",
        "\n",
        "# Output the full codex\n",
        "for entry in codex:\n",
        "    print(entry)\n"
      ]
    }
  ]
}