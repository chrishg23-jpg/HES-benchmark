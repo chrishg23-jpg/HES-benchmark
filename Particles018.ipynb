{
  "nbformat": 4,
  "nbformat_minor": 0,
  "metadata": {
    "colab": {
      "provenance": [],
      "authorship_tag": "ABX9TyNzQdHPRyFYEiQo+xNqv97w",
      "include_colab_link": true
    },
    "kernelspec": {
      "name": "python3",
      "display_name": "Python 3"
    },
    "language_info": {
      "name": "python"
    }
  },
  "cells": [
    {
      "cell_type": "markdown",
      "metadata": {
        "id": "view-in-github",
        "colab_type": "text"
      },
      "source": [
        "<a href=\"https://colab.research.google.com/github/chrishg23-jpg/HES-benchmark/blob/main/Particles018.ipynb\" target=\"_parent\"><img src=\"https://colab.research.google.com/assets/colab-badge.svg\" alt=\"Open In Colab\"/></a>"
      ]
    },
    {
      "cell_type": "code",
      "execution_count": 1,
      "metadata": {
        "colab": {
          "base_uri": "https://localhost:8080/"
        },
        "id": "5npZg06jDHz3",
        "outputId": "ec202fdf-c64a-4272-e7f5-7f5d95811575"
      },
      "outputs": [
        {
          "output_type": "stream",
          "name": "stdout",
          "text": [
            "Codex: Codex [t=0]: Echo1 at (2.0, 2.0) with echo 'frame_0'\n",
            "Codex: Codex [t=0]: Echo2 at (3.0, 3.0) with echo 'frame_0'\n",
            "Codex: Codex [t=1]: Echo1 at (2.1, 2.1) with echo 'frame_1'\n",
            "Codex: Codex [t=1]: Echo2 at (3.1, 3.1) with echo 'frame_1'\n",
            "Codex: Codex [t=2]: Echo1 at (2.3000000000000003, 2.3000000000000003) with echo 'frame_2'\n",
            "Codex: Codex [t=2]: Echo2 at (3.3000000000000003, 3.3000000000000003) with echo 'frame_2'\n",
            "Codex: Codex [t=3]: Echo1 at (2.6000000000000005, 2.6000000000000005) with echo 'frame_3'\n",
            "Codex: Codex [t=3]: Echo2 at (3.6000000000000005, 3.6000000000000005) with echo 'frame_3'\n",
            "Codex: Codex [t=4]: Echo1 at (3.0000000000000004, 3.0000000000000004) with echo 'frame_4'\n",
            "Codex: Codex [t=4]: Echo2 at (4.000000000000001, 4.000000000000001) with echo 'frame_4'\n",
            "Codex: Temporal layering test complete. Entity evolution and Codex continuity recorded.\n"
          ]
        }
      ],
      "source": [
        "# --- Helper Functions ---\n",
        "def evolve_entity(entity, frame):\n",
        "    # Simulate entity evolution over time\n",
        "    entity[\"position\"] = (\n",
        "        entity[\"position\"][0] + frame * 0.1,\n",
        "        entity[\"position\"][1] + frame * 0.1\n",
        "    )\n",
        "    entity[\"echo\"] = f\"frame_{frame}\"\n",
        "\n",
        "def annotate_codex(codex, entities, frame):\n",
        "    # Record entity states for each frame\n",
        "    for entity in entities:\n",
        "        codex.append(\n",
        "            f\"Codex [t={frame}]: {entity['name']} at {entity['position']} with echo '{entity['echo']}'\"\n",
        "        )\n",
        "\n",
        "# --- Setup ---\n",
        "codex = []\n",
        "entities = [\n",
        "    {\"name\": \"Echo1\", \"position\": (2, 2), \"echo\": \"origin\"},\n",
        "    {\"name\": \"Echo2\", \"position\": (3, 3), \"echo\": \"origin\"}\n",
        "]\n",
        "frames = 5  # Number of time slices\n",
        "\n",
        "# --- Temporal Loop ---\n",
        "for frame in range(frames):\n",
        "    for entity in entities:\n",
        "        evolve_entity(entity, frame)\n",
        "    annotate_codex(codex, entities, frame)\n",
        "\n",
        "# --- Final Annotation ---\n",
        "codex.append(\"Temporal layering test complete. Entity evolution and Codex continuity recorded.\")\n",
        "\n",
        "# --- Output ---\n",
        "for entry in codex:\n",
        "    print(\"Codex:\", entry)\n"
      ]
    }
  ]
}