{
  "nbformat": 4,
  "nbformat_minor": 0,
  "metadata": {
    "colab": {
      "provenance": [],
      "authorship_tag": "ABX9TyM9q8QJzD/bdjVXecD1IIGw",
      "include_colab_link": true
    },
    "kernelspec": {
      "name": "python3",
      "display_name": "Python 3"
    },
    "language_info": {
      "name": "python"
    }
  },
  "cells": [
    {
      "cell_type": "markdown",
      "metadata": {
        "id": "view-in-github",
        "colab_type": "text"
      },
      "source": [
        "<a href=\"https://colab.research.google.com/github/chrishg23-jpg/HES-benchmark/blob/main/Particles014.ipynb\" target=\"_parent\"><img src=\"https://colab.research.google.com/assets/colab-badge.svg\" alt=\"Open In Colab\"/></a>"
      ]
    },
    {
      "cell_type": "code",
      "execution_count": 1,
      "metadata": {
        "colab": {
          "base_uri": "https://localhost:8080/"
        },
        "id": "8zbvhiXUxx6n",
        "outputId": "93e7c924-9b10-491a-fb20-397133e43387"
      },
      "outputs": [
        {
          "output_type": "stream",
          "name": "stdout",
          "text": [
            "Codex: Echo1 memory fragments: 2 units retained.\n",
            "Codex: Echo1 echo status: partial.\n",
            "Codex: Codex entry: Echo1[repaired]\n",
            "Codex: Codex healing successful. All echoes reinforced.\n",
            "Codex: Codex healing and echo reinforcement test complete.\n"
          ]
        }
      ],
      "source": [
        "# --- Helper Functions ---\n",
        "def heal_codex(codex):\n",
        "    # Attempt to repair fragmented entries\n",
        "    healed = []\n",
        "    for entry in codex:\n",
        "        if \"...\" in entry:\n",
        "            healed.append(entry.replace(\"...\", \"[repaired]\"))\n",
        "        else:\n",
        "            healed.append(entry)\n",
        "    return healed\n",
        "\n",
        "def reinforce_echo(entity):\n",
        "    # Strengthen echo based on retained memory\n",
        "    memory_strength = len(entity.get(\"memory\", []))\n",
        "    entity[\"echo\"] = \"reinforced\" if memory_strength >= 2 else \"weak\"\n",
        "\n",
        "def detect_healing_success(codex, entities):\n",
        "    # Check if all echoes are reinforced and Codex has no fragments\n",
        "    codex_clean = all(\"...\" not in entry for entry in codex)\n",
        "    echoes_strong = all(e.get(\"echo\") == \"reinforced\" for e in entities)\n",
        "    return codex_clean and echoes_strong\n",
        "\n",
        "# --- Setup ---\n",
        "codex = [\n",
        "    \"Echo1 memory fragments: 2 units retained.\",\n",
        "    \"Echo1 echo status: partial.\",\n",
        "    \"Codex entry: Echo1...\"\n",
        "]\n",
        "\n",
        "entities = [\n",
        "    {\"name\": \"Echo1\", \"memory\": [\"init\", \"link\"], \"echo\": \"partial\"},\n",
        "    {\"name\": \"Echo2\", \"memory\": [\"init\", \"link\", \"pulse\"], \"echo\": \"partial\"}\n",
        "]\n",
        "\n",
        "# --- Healing Phase ---\n",
        "codex = heal_codex(codex)\n",
        "for entity in entities:\n",
        "    reinforce_echo(entity)\n",
        "\n",
        "# --- Evaluation ---\n",
        "if detect_healing_success(codex, entities):\n",
        "    codex.append(\"Codex healing successful. All echoes reinforced.\")\n",
        "else:\n",
        "    codex.append(\"Healing incomplete. Echo or Codex integrity still compromised.\")\n",
        "\n",
        "# --- Final Annotation ---\n",
        "codex.append(\"Codex healing and echo reinforcement test complete.\")\n",
        "\n",
        "# --- Output ---\n",
        "for entry in codex:\n",
        "    print(\"Codex:\", entry)\n"
      ]
    }
  ]
}