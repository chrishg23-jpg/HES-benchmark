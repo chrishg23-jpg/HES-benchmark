{
  "nbformat": 4,
  "nbformat_minor": 0,
  "metadata": {
    "colab": {
      "provenance": [],
      "authorship_tag": "ABX9TyN1UHF+pzh2UM8w0/kwniNO",
      "include_colab_link": true
    },
    "kernelspec": {
      "name": "python3",
      "display_name": "Python 3"
    },
    "language_info": {
      "name": "python"
    }
  },
  "cells": [
    {
      "cell_type": "markdown",
      "metadata": {
        "id": "view-in-github",
        "colab_type": "text"
      },
      "source": [
        "<a href=\"https://colab.research.google.com/github/chrishg23-jpg/HES-benchmark/blob/main/HES_Systems005.ipynb\" target=\"_parent\"><img src=\"https://colab.research.google.com/assets/colab-badge.svg\" alt=\"Open In Colab\"/></a>"
      ]
    },
    {
      "cell_type": "code",
      "execution_count": 1,
      "metadata": {
        "colab": {
          "base_uri": "https://localhost:8080/"
        },
        "id": "3QOitNrRxlal",
        "outputId": "ed050313-185c-459c-a9af-1822dbdf70a0"
      },
      "outputs": [
        {
          "output_type": "stream",
          "name": "stdout",
          "text": [
            "Codex [t=0]: Entity_0 at (0.6465, 0.6382) with echo 'frame_0_echo_1.4' [recovering]\n",
            "Codex [t=0]: Entity_1 at (0.6917, 0.1297) with echo 'frame_0_echo_1.4' [recovering]\n",
            "Codex [t=0]: Entity_2 at (0.2885, 0.8341) with echo 'frame_0_echo_1.4' [recovering]\n",
            "Codex [t=0]: Entity_3 at (0.8609, 0.4285) with echo 'frame_0_echo_1.4' [recovering]\n",
            "Codex [t=0]: Entity_4 at (0.2998, 0.3296) with echo 'frame_0_echo_1.4' [recovering]\n",
            "Codex [t=0]: Recursion depth = 0\n",
            "Codex [t=0]: Curvature estimate = 0.1\n",
            "Codex [t=1]: Entity_0 at (0.6415, 0.6332) with echo 'frame_1_echo_1.3' [recovering]\n",
            "Codex [t=1]: Entity_1 at (0.6867, 0.1247) with echo 'frame_1_echo_1.3' [recovering]\n",
            "Codex [t=1]: Entity_2 at (0.2835, 0.8291) with echo 'frame_1_echo_1.3' [recovering]\n",
            "Codex [t=1]: Entity_3 at (0.8559, 0.4235) with echo 'frame_1_echo_1.3' [recovering]\n",
            "Codex [t=1]: Entity_4 at (0.2948, 0.3246) with echo 'frame_1_echo_1.3' [recovering]\n",
            "Codex [t=1]: Recursion depth = 1\n",
            "Codex [t=1]: Curvature estimate = 0.09\n",
            "Codex [t=2]: Entity_0 at (0.6365, 0.6282) with echo 'frame_2_echo_1.2' [recovering]\n",
            "Codex [t=2]: Entity_1 at (0.6817, 0.1197) with echo 'frame_2_echo_1.2' [recovering]\n",
            "Codex [t=2]: Entity_2 at (0.2785, 0.8241) with echo 'frame_2_echo_1.2' [recovering]\n",
            "Codex [t=2]: Entity_3 at (0.8509, 0.4185) with echo 'frame_2_echo_1.2' [recovering]\n",
            "Codex [t=2]: Entity_4 at (0.2898, 0.3196) with echo 'frame_2_echo_1.2' [recovering]\n",
            "Codex [t=2]: Recursion depth = 2\n",
            "Codex [t=2]: Curvature estimate = 0.08\n",
            "Codex [t=3]: Entity_0 at (0.6315, 0.6232) with echo 'frame_3_echo_1.1' [recovered]\n",
            "Codex [t=3]: Entity_1 at (0.6767, 0.1147) with echo 'frame_3_echo_1.1' [recovered]\n",
            "Codex [t=3]: Entity_2 at (0.2735, 0.8191) with echo 'frame_3_echo_1.1' [recovered]\n",
            "Codex [t=3]: Entity_3 at (0.8459, 0.4135) with echo 'frame_3_echo_1.1' [recovered]\n",
            "Codex [t=3]: Entity_4 at (0.2848, 0.3146) with echo 'frame_3_echo_1.1' [recovered]\n",
            "Codex [t=3]: Recursion depth = 3\n",
            "Codex [t=3]: Curvature estimate = 0.07\n",
            "Codex [t=4]: Entity_0 at (0.6265, 0.6182) with echo 'frame_4_echo_1.0' [recovered]\n",
            "Codex [t=4]: Entity_1 at (0.6717, 0.1097) with echo 'frame_4_echo_1.0' [recovered]\n",
            "Codex [t=4]: Entity_2 at (0.2685, 0.8141) with echo 'frame_4_echo_1.0' [recovered]\n",
            "Codex [t=4]: Entity_3 at (0.8409, 0.4085) with echo 'frame_4_echo_1.0' [recovered]\n",
            "Codex [t=4]: Entity_4 at (0.2798, 0.3096) with echo 'frame_4_echo_1.0' [recovered]\n",
            "Codex [t=4]: Recursion depth = 4\n",
            "Codex [t=4]: Curvature estimate = 0.06\n",
            "Codex [t=5]: Entity_0 at (0.6215, 0.6132) with echo 'frame_5_echo_1.0' [recovered]\n",
            "Codex [t=5]: Entity_1 at (0.6667, 0.1047) with echo 'frame_5_echo_1.0' [recovered]\n",
            "Codex [t=5]: Entity_2 at (0.2635, 0.8091) with echo 'frame_5_echo_1.0' [recovered]\n",
            "Codex [t=5]: Entity_3 at (0.8359, 0.4035) with echo 'frame_5_echo_1.0' [recovered]\n",
            "Codex [t=5]: Entity_4 at (0.2748, 0.3046) with echo 'frame_5_echo_1.0' [recovered]\n",
            "Codex [t=5]: Recursion depth = 5\n",
            "Codex [t=5]: Curvature estimate = 0.05\n",
            "Codex [t=6]: Entity_0 at (0.6165, 0.6082) with echo 'frame_6_echo_1.0' [recovered]\n",
            "Codex [t=6]: Entity_1 at (0.6617, 0.0997) with echo 'frame_6_echo_1.0' [recovered]\n",
            "Codex [t=6]: Entity_2 at (0.2585, 0.8041) with echo 'frame_6_echo_1.0' [recovered]\n",
            "Codex [t=6]: Entity_3 at (0.8309, 0.3985) with echo 'frame_6_echo_1.0' [recovered]\n",
            "Codex [t=6]: Entity_4 at (0.2698, 0.2996) with echo 'frame_6_echo_1.0' [recovered]\n",
            "Codex [t=6]: Recursion depth = 6\n",
            "Codex [t=6]: Curvature estimate = 0.05\n",
            "Codex [t=7]: Entity_0 at (0.6115, 0.6032) with echo 'frame_7_echo_1.0' [recovered]\n",
            "Codex [t=7]: Entity_1 at (0.6567, 0.0947) with echo 'frame_7_echo_1.0' [recovered]\n",
            "Codex [t=7]: Entity_2 at (0.2535, 0.7991) with echo 'frame_7_echo_1.0' [recovered]\n",
            "Codex [t=7]: Entity_3 at (0.8259, 0.3935) with echo 'frame_7_echo_1.0' [recovered]\n",
            "Codex [t=7]: Entity_4 at (0.2648, 0.2946) with echo 'frame_7_echo_1.0' [recovered]\n",
            "Codex [t=7]: Recursion depth = 7\n",
            "Codex [t=7]: Curvature estimate = 0.05\n",
            "Codex [t=8]: Entity_0 at (0.6065, 0.5982) with echo 'frame_8_echo_1.0' [recovered]\n",
            "Codex [t=8]: Entity_1 at (0.6517, 0.0897) with echo 'frame_8_echo_1.0' [recovered]\n",
            "Codex [t=8]: Entity_2 at (0.2485, 0.7941) with echo 'frame_8_echo_1.0' [recovered]\n",
            "Codex [t=8]: Entity_3 at (0.8209, 0.3885) with echo 'frame_8_echo_1.0' [recovered]\n",
            "Codex [t=8]: Entity_4 at (0.2598, 0.2896) with echo 'frame_8_echo_1.0' [recovered]\n",
            "Codex [t=8]: Recursion depth = 8\n",
            "Codex [t=8]: Curvature estimate = 0.05\n",
            "Codex [t=9]: Entity_0 at (0.6015, 0.5932) with echo 'frame_9_echo_1.0' [recovered]\n",
            "Codex [t=9]: Entity_1 at (0.6467, 0.0847) with echo 'frame_9_echo_1.0' [recovered]\n",
            "Codex [t=9]: Entity_2 at (0.2435, 0.7891) with echo 'frame_9_echo_1.0' [recovered]\n",
            "Codex [t=9]: Entity_3 at (0.8159, 0.3835) with echo 'frame_9_echo_1.0' [recovered]\n",
            "Codex [t=9]: Entity_4 at (0.2548, 0.2846) with echo 'frame_9_echo_1.0' [recovered]\n",
            "Codex [t=9]: Recursion depth = 9\n",
            "Codex [t=9]: Curvature estimate = 0.05\n"
          ]
        }
      ],
      "source": [
        "import numpy as np\n",
        "\n",
        "# Parameters\n",
        "num_entities = 5\n",
        "num_frames = 10\n",
        "initial_echo = 1.5  # Start at collapse threshold\n",
        "damping_rate = 0.1  # Echo reduction per frame\n",
        "reverse_drift_rate = -0.005  # Inverse of previous drift\n",
        "\n",
        "# Initialize entities with random coordinates and echo memory\n",
        "entities = np.random.rand(num_entities, 2)\n",
        "echo_memory = np.full(num_entities, initial_echo)\n",
        "collapse_memory = [True] * num_entities  # All entities begin collapsed\n",
        "\n",
        "# Storage for codex entries\n",
        "codex = []\n",
        "\n",
        "# Simulation loop\n",
        "for t in range(num_frames):\n",
        "    frame_codex = []\n",
        "\n",
        "    for i in range(num_entities):\n",
        "        # Echo dampening\n",
        "        echo_memory[i] = max(1.0, echo_memory[i] - damping_rate)\n",
        "\n",
        "        # Collapse recovery check\n",
        "        if echo_memory[i] <= 1.1:\n",
        "            collapse_memory[i] = False\n",
        "\n",
        "        # Reverse drift\n",
        "        entities[i] += reverse_drift_rate\n",
        "\n",
        "        echo_tag = f\"frame_{t}_echo_{round(echo_memory[i], 3)}\"\n",
        "        collapse_tag = \"recovered\" if not collapse_memory[i] else \"recovering\"\n",
        "        x, y = round(entities[i][0], 4), round(entities[i][1], 4)\n",
        "        frame_codex.append(f\"Codex [t={t}]: Entity_{i} at ({x}, {y}) with echo '{echo_tag}' [{collapse_tag}]\")\n",
        "\n",
        "    # Curvature recovery (approaches baseline)\n",
        "    curvature = round(0.1 - 0.01 * min(t, 5), 2)\n",
        "    frame_codex.append(f\"Codex [t={t}]: Recursion depth = {t}\")\n",
        "    frame_codex.append(f\"Codex [t={t}]: Curvature estimate = {curvature}\")\n",
        "\n",
        "    codex.extend(frame_codex)\n",
        "\n",
        "# Output the full codex\n",
        "for entry in codex:\n",
        "    print(entry)\n"
      ]
    }
  ]
}