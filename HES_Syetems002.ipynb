{
  "nbformat": 4,
  "nbformat_minor": 0,
  "metadata": {
    "colab": {
      "provenance": [],
      "authorship_tag": "ABX9TyMXIEIL6pkKd5rf2QA63k6+",
      "include_colab_link": true
    },
    "kernelspec": {
      "name": "python3",
      "display_name": "Python 3"
    },
    "language_info": {
      "name": "python"
    }
  },
  "cells": [
    {
      "cell_type": "markdown",
      "metadata": {
        "id": "view-in-github",
        "colab_type": "text"
      },
      "source": [
        "<a href=\"https://colab.research.google.com/github/chrishg23-jpg/HES-benchmark/blob/main/HES_Syetems002.ipynb\" target=\"_parent\"><img src=\"https://colab.research.google.com/assets/colab-badge.svg\" alt=\"Open In Colab\"/></a>"
      ]
    },
    {
      "cell_type": "code",
      "execution_count": 1,
      "metadata": {
        "colab": {
          "base_uri": "https://localhost:8080/"
        },
        "id": "V64upDHRa6MP",
        "outputId": "ec44e73c-369a-413d-a440-8a7b772778ac"
      },
      "outputs": [
        {
          "output_type": "stream",
          "name": "stdout",
          "text": [
            "Codex [t=0]: Entity_0 at (0.6788, 0.1933) with echo 'frame_0_echo_1.1'\n",
            "Codex [t=0]: Entity_1 at (0.767, 0.8974) with echo 'frame_0_echo_1.1'\n",
            "Codex [t=0]: Entity_2 at (0.28, 0.7822) with echo 'frame_0_echo_1.1'\n",
            "Codex [t=0]: Entity_3 at (0.2759, 0.4322) with echo 'frame_0_echo_1.1'\n",
            "Codex [t=0]: Entity_4 at (0.1619, 0.0509) with echo 'frame_0_echo_1.1'\n",
            "Codex [t=0]: Recursion depth = 0\n",
            "Codex [t=0]: Curvature estimate = 0.06\n",
            "Codex [t=1]: Entity_0 at (0.6838, 0.1983) with echo 'frame_1_echo_1.21'\n",
            "Codex [t=1]: Entity_1 at (0.772, 0.9024) with echo 'frame_1_echo_1.21'\n",
            "Codex [t=1]: Entity_2 at (0.285, 0.7872) with echo 'frame_1_echo_1.21'\n",
            "Codex [t=1]: Entity_3 at (0.2809, 0.4372) with echo 'frame_1_echo_1.21'\n",
            "Codex [t=1]: Entity_4 at (0.1669, 0.0559) with echo 'frame_1_echo_1.21'\n",
            "Codex [t=1]: Recursion depth = 1\n",
            "Codex [t=1]: Curvature estimate = 0.06\n",
            "Codex [t=2]: Entity_0 at (0.6888, 0.2033) with echo 'frame_2_echo_1.331'\n",
            "Codex [t=2]: Entity_1 at (0.777, 0.9074) with echo 'frame_2_echo_1.331'\n",
            "Codex [t=2]: Entity_2 at (0.29, 0.7922) with echo 'frame_2_echo_1.331'\n",
            "Codex [t=2]: Entity_3 at (0.2859, 0.4422) with echo 'frame_2_echo_1.331'\n",
            "Codex [t=2]: Entity_4 at (0.1719, 0.0609) with echo 'frame_2_echo_1.331'\n",
            "Codex [t=2]: Recursion depth = 2\n",
            "Codex [t=2]: Curvature estimate = 0.06\n",
            "Codex [t=3]: Entity_0 at (0.6938, 0.2083) with echo 'frame_3_echo_1.464'\n",
            "Codex [t=3]: Entity_1 at (0.782, 0.9124) with echo 'frame_3_echo_1.464'\n",
            "Codex [t=3]: Entity_2 at (0.295, 0.7972) with echo 'frame_3_echo_1.464'\n",
            "Codex [t=3]: Entity_3 at (0.2909, 0.4472) with echo 'frame_3_echo_1.464'\n",
            "Codex [t=3]: Entity_4 at (0.1769, 0.0659) with echo 'frame_3_echo_1.464'\n",
            "Codex [t=3]: Recursion depth = 3\n",
            "Codex [t=3]: Curvature estimate = 0.06\n",
            "Codex [t=4]: Entity_0 at (0.6988, 0.2133) with echo 'frame_4_collapse_triggered'\n",
            "Codex [t=4]: Entity_1 at (0.787, 0.9174) with echo 'frame_4_collapse_triggered'\n",
            "Codex [t=4]: Entity_2 at (0.3, 0.8022) with echo 'frame_4_collapse_triggered'\n",
            "Codex [t=4]: Entity_3 at (0.2959, 0.4522) with echo 'frame_4_collapse_triggered'\n",
            "Codex [t=4]: Entity_4 at (0.1819, 0.0709) with echo 'frame_4_collapse_triggered'\n",
            "Codex [t=4]: Recursion depth = 4\n",
            "Codex [t=4]: Curvature estimate = 0.1\n",
            "Codex [t=5]: Entity_0 at (0.7038, 0.2183) with echo 'frame_5_collapse_triggered'\n",
            "Codex [t=5]: Entity_1 at (0.792, 0.9224) with echo 'frame_5_collapse_triggered'\n",
            "Codex [t=5]: Entity_2 at (0.305, 0.8072) with echo 'frame_5_collapse_triggered'\n",
            "Codex [t=5]: Entity_3 at (0.3009, 0.4572) with echo 'frame_5_collapse_triggered'\n",
            "Codex [t=5]: Entity_4 at (0.1869, 0.0759) with echo 'frame_5_collapse_triggered'\n",
            "Codex [t=5]: Recursion depth = 5\n",
            "Codex [t=5]: Curvature estimate = 0.11\n",
            "Codex [t=6]: Entity_0 at (0.7088, 0.2233) with echo 'frame_6_collapse_triggered'\n",
            "Codex [t=6]: Entity_1 at (0.797, 0.9274) with echo 'frame_6_collapse_triggered'\n",
            "Codex [t=6]: Entity_2 at (0.31, 0.8122) with echo 'frame_6_collapse_triggered'\n",
            "Codex [t=6]: Entity_3 at (0.3059, 0.4622) with echo 'frame_6_collapse_triggered'\n",
            "Codex [t=6]: Entity_4 at (0.1919, 0.0809) with echo 'frame_6_collapse_triggered'\n",
            "Codex [t=6]: Recursion depth = 6\n",
            "Codex [t=6]: Curvature estimate = 0.12\n",
            "Codex [t=7]: Entity_0 at (0.7138, 0.2283) with echo 'frame_7_collapse_triggered'\n",
            "Codex [t=7]: Entity_1 at (0.802, 0.9324) with echo 'frame_7_collapse_triggered'\n",
            "Codex [t=7]: Entity_2 at (0.315, 0.8172) with echo 'frame_7_collapse_triggered'\n",
            "Codex [t=7]: Entity_3 at (0.3109, 0.4672) with echo 'frame_7_collapse_triggered'\n",
            "Codex [t=7]: Entity_4 at (0.1969, 0.0859) with echo 'frame_7_collapse_triggered'\n",
            "Codex [t=7]: Recursion depth = 7\n",
            "Codex [t=7]: Curvature estimate = 0.13\n",
            "Codex [t=8]: Entity_0 at (0.7188, 0.2333) with echo 'frame_8_collapse_triggered'\n",
            "Codex [t=8]: Entity_1 at (0.807, 0.9374) with echo 'frame_8_collapse_triggered'\n",
            "Codex [t=8]: Entity_2 at (0.32, 0.8222) with echo 'frame_8_collapse_triggered'\n",
            "Codex [t=8]: Entity_3 at (0.3159, 0.4722) with echo 'frame_8_collapse_triggered'\n",
            "Codex [t=8]: Entity_4 at (0.2019, 0.0909) with echo 'frame_8_collapse_triggered'\n",
            "Codex [t=8]: Recursion depth = 8\n",
            "Codex [t=8]: Curvature estimate = 0.14\n",
            "Codex [t=9]: Entity_0 at (0.7238, 0.2383) with echo 'frame_9_collapse_triggered'\n",
            "Codex [t=9]: Entity_1 at (0.812, 0.9424) with echo 'frame_9_collapse_triggered'\n",
            "Codex [t=9]: Entity_2 at (0.325, 0.8272) with echo 'frame_9_collapse_triggered'\n",
            "Codex [t=9]: Entity_3 at (0.3209, 0.4772) with echo 'frame_9_collapse_triggered'\n",
            "Codex [t=9]: Entity_4 at (0.2069, 0.0959) with echo 'frame_9_collapse_triggered'\n",
            "Codex [t=9]: Recursion depth = 9\n",
            "Codex [t=9]: Curvature estimate = 0.15\n"
          ]
        }
      ],
      "source": [
        "import numpy as np\n",
        "\n",
        "# Parameters\n",
        "num_entities = 5\n",
        "num_frames = 10\n",
        "initial_echo = 1.0\n",
        "feedback_gain = 1.1  # Amplifies returning signal\n",
        "collapse_threshold = 1.5  # Echo strength that triggers collapse\n",
        "\n",
        "# Initialize entities with random coordinates and echo memory\n",
        "entities = np.random.rand(num_entities, 2)\n",
        "echo_memory = np.full(num_entities, initial_echo)\n",
        "\n",
        "# Storage for codex entries\n",
        "codex = []\n",
        "\n",
        "# Simulation loop\n",
        "for t in range(num_frames):\n",
        "    frame_codex = []\n",
        "\n",
        "    for i, (x, y) in enumerate(entities):\n",
        "        # Feedback amplification\n",
        "        echo_memory[i] *= feedback_gain\n",
        "\n",
        "        # Collapse check\n",
        "        if echo_memory[i] > collapse_threshold:\n",
        "            echo_tag = f\"frame_{t}_collapse_triggered\"\n",
        "        else:\n",
        "            echo_tag = f\"frame_{t}_echo_{round(echo_memory[i], 3)}\"\n",
        "\n",
        "        # Optional drift\n",
        "        dx, dy = 0.005 * t, 0.005 * t\n",
        "        new_x, new_y = x + dx, y + dy\n",
        "\n",
        "        frame_codex.append(f\"Codex [t={t}]: Entity_{i} at ({round(new_x, 4)}, {round(new_y, 4)}) with echo '{echo_tag}'\")\n",
        "\n",
        "    # Curvature estimate (placeholder logic)\n",
        "    curvature = round(0.06 + 0.01 * (t if any(e > collapse_threshold for e in echo_memory) else 0), 2)\n",
        "    frame_codex.append(f\"Codex [t={t}]: Recursion depth = {t}\")\n",
        "    frame_codex.append(f\"Codex [t={t}]: Curvature estimate = {curvature}\")\n",
        "\n",
        "    codex.extend(frame_codex)\n",
        "\n",
        "# Output the full codex\n",
        "for entry in codex:\n",
        "    print(entry)\n"
      ]
    }
  ]
}