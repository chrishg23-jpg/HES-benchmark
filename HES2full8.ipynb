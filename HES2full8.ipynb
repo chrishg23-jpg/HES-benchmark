{
  "nbformat": 4,
  "nbformat_minor": 0,
  "metadata": {
    "colab": {
      "provenance": [],
      "authorship_tag": "ABX9TyNObEEfSS+A6w0aIH/OdQV4",
      "include_colab_link": true
    },
    "kernelspec": {
      "name": "python3",
      "display_name": "Python 3"
    },
    "language_info": {
      "name": "python"
    }
  },
  "cells": [
    {
      "cell_type": "markdown",
      "metadata": {
        "id": "view-in-github",
        "colab_type": "text"
      },
      "source": [
        "<a href=\"https://colab.research.google.com/github/chrishg23-jpg/HES-benchmark/blob/main/HES2full8.ipynb\" target=\"_parent\"><img src=\"https://colab.research.google.com/assets/colab-badge.svg\" alt=\"Open In Colab\"/></a>"
      ]
    },
    {
      "cell_type": "code",
      "execution_count": 1,
      "metadata": {
        "colab": {
          "base_uri": "https://localhost:8080/"
        },
        "id": "bqC0YNZ20wJf",
        "outputId": "bedd0400-1dac-4a48-d112-bfb39f07eb81"
      },
      "outputs": [
        {
          "output_type": "stream",
          "name": "stdout",
          "text": [
            "Starting HES 26.0-B Perturbation Test (N=100, δ=4.99).\n",
            "Simulation Finished in 235.77 seconds.\n",
            "\n",
            "================================================================================\n",
            "ACT XXVI-B: PERTURBATION TEST REPORT (Hyper-Sensitivity Check)\n",
            "PERTURBED PARAMS: α=3.00, δ=4.99, ρ=1.663\n",
            "==================================================================================\n",
            "1. Final Estimated G: 6.93e+11\n",
            "2. Curvature Decay (λ_sim): 0.276665\n",
            "--------------------------------------------------------------------------------\n",
            "ASSESSMENT: Analyzing the effect of the +1.01% Contraction Force increase...\n"
          ]
        }
      ],
      "source": [
        "# HES_26.0_B_PERTURBATION_TEST.py: Act XXVI-B - Sensitivity Analysis\n",
        "\n",
        "import numpy as np\n",
        "import time\n",
        "import warnings\n",
        "warnings.filterwarnings(\"ignore\", category=RuntimeWarning)\n",
        "np.random.seed(42)\n",
        "\n",
        "# --- 1. PERTURBED PARAMETERS ---\n",
        "GRID_SIZE = 100\n",
        "ALPHA = 3.00\n",
        "# Delta is perturbed by ~+1%\n",
        "DELTA_PERTURBED = 4.99\n",
        "BETA, GAMMA = 0.1, 0.001\n",
        "L_SQUARE = 1.0\n",
        "STEPS = 500 # Extended Run for phase space mapping\n",
        "SUBSYSTEM_SIZE = 3\n",
        "FIT_START, FIT_END = 20, 50 # For lambda calculation\n",
        "\n",
        "# --- CORE SIMULATION FUNCTIONS (Same as HES 26.0) ---\n",
        "# NOTE: The full von_neumann_entropy, laplacian_2d_numpy, etc., are included here\n",
        "# to ensure the physics simulation runs correctly.\n",
        "\n",
        "def von_neumann_entropy(subsystem):\n",
        "    # (function code for von_neumann_entropy...)\n",
        "    flat = subsystem.flatten()\n",
        "    rho = np.outer(flat, flat)\n",
        "    rho /= np.trace(rho + 1e-10)\n",
        "    eigenvalues = np.linalg.eigvalsh(rho)\n",
        "    eigenvalues = eigenvalues[eigenvalues > 1e-10]\n",
        "    return -np.sum(eigenvalues * np.log2(eigenvalues)) if len(eigenvalues) > 0 else 0.0\n",
        "\n",
        "def laplacian_2d_numpy(field):\n",
        "    # (function code for laplacian_2d_numpy...)\n",
        "    S_padded = np.pad(field, 1, mode='wrap')\n",
        "    S_center = S_padded[1:-1, 1:-1]\n",
        "    L = S_padded[2:, 1:-1] + S_padded[:-2, 1:-1] + S_padded[1:-1, :-2] + S_padded[1:-1, 2:] - 4 * S_center\n",
        "    return L\n",
        "\n",
        "# --- 2. RUN SIMULATION & METRIC CALCULATION ---\n",
        "def run_simulation_perturbed(alpha, delta, grid_size, total_steps):\n",
        "    s = np.random.uniform(-1, 1, (grid_size, grid_size))\n",
        "    entropy_map = np.zeros((grid_size, grid_size))\n",
        "    C_history = []\n",
        "\n",
        "    for step in range(total_steps):\n",
        "        # 1. Compute Entropy Map\n",
        "        for i in range(grid_size):\n",
        "            for j in range(grid_size):\n",
        "                i_start, i_end = max(0, i - SUBSYSTEM_SIZE//2), min(grid_size, i + SUBSYSTEM_SIZE//2 + 1)\n",
        "                j_start, j_end = max(0, j - SUBSYSTEM_SIZE//2), min(grid_size, j + SUBSYSTEM_SIZE//2 + 1)\n",
        "                if i_end > i_start and j_end > j_start:\n",
        "                    entropy_map[i,j] = von_neumann_entropy(s[i_start:i_end, j_start:j_end])\n",
        "\n",
        "        # 2. Compute Curvature\n",
        "        curvature = laplacian_2d_numpy(entropy_map)\n",
        "        curvature_norm = curvature / L_SQUARE\n",
        "\n",
        "        # 3. Update Rule with PERTURBED DELTA\n",
        "        nabla_s_approx = (s - (np.roll(s, 1, axis=0) + np.roll(s, -1, axis=0) +\n",
        "                               np.roll(s, 1, axis=1) + np.roll(s, -1, axis=1)) / 4.0)\n",
        "        s_new = s - (alpha * nabla_s_approx + BETA * s + GAMMA * np.mean(s) * s + delta * curvature_norm)\n",
        "        s = np.clip(s_new, -1, 1)\n",
        "        C_history.append(np.mean(np.abs(curvature_norm)))\n",
        "\n",
        "    # --- POST-RUN METRICS ---\n",
        "    # G_eff Calculation\n",
        "    boundary_area = 4 * grid_size\n",
        "    boundary_entropy = np.mean([entropy_map[0,:], entropy_map[-1,:],\n",
        "                                entropy_map[:,0], entropy_map[:,-1]])\n",
        "    G_eff = boundary_area / (4 * boundary_entropy) if boundary_entropy > 0 else 1.0e+20\n",
        "\n",
        "    # Lambda_sim Calculation\n",
        "    lambda_sim = 0.0\n",
        "    C_data = np.array(C_history[FIT_START:FIT_END])\n",
        "    if C_data.size >= 2 and np.max(C_data) > 1e-18:\n",
        "        log_C = np.log(C_data + 1e-18)\n",
        "        time_steps = np.arange(len(log_C))\n",
        "        poly_coeffs = np.polyfit(time_steps, log_C, 1)\n",
        "        lambda_sim = -poly_coeffs[0]\n",
        "\n",
        "    return G_eff, lambda_sim\n",
        "\n",
        "\n",
        "# --- 3. EXECUTION ---\n",
        "print(f\"Starting HES 26.0-B Perturbation Test (N=100, δ={DELTA_PERTURBED:.2f}).\")\n",
        "start_time = time.time()\n",
        "G_eff_result, lambda_sim_result = run_simulation_perturbed(ALPHA, DELTA_PERTURBED, GRID_SIZE, STEPS)\n",
        "end_time = time.time()\n",
        "elapsed_time = end_time - start_time\n",
        "\n",
        "# --- 4. FINAL REPORT OUTPUT ---\n",
        "print(f\"Simulation Finished in {elapsed_time:.2f} seconds.\")\n",
        "print(\"\\n\" + \"=\"*80)\n",
        "print(\"ACT XXVI-B: PERTURBATION TEST REPORT (Hyper-Sensitivity Check)\")\n",
        "print(f\"PERTURBED PARAMS: α={ALPHA:.2f}, δ={DELTA_PERTURBED:.2f}, ρ={DELTA_PERTURBED/ALPHA:.3f}\")\n",
        "print(\"==================================================================================\")\n",
        "print(f\"1. Final Estimated G: {G_eff_result:.2e}\")\n",
        "print(f\"2. Curvature Decay (λ_sim): {lambda_sim_result:.6f}\")\n",
        "print(\"-\" * 80)\n",
        "print(\"ASSESSMENT: Analyzing the effect of the +1.01% Contraction Force increase...\")\n"
      ]
    }
  ]
}