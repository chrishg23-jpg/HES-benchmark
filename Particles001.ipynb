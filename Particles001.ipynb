{
  "nbformat": 4,
  "nbformat_minor": 0,
  "metadata": {
    "colab": {
      "provenance": [],
      "authorship_tag": "ABX9TyPSOkddl3+UtBqpNItvIuYa",
      "include_colab_link": true
    },
    "kernelspec": {
      "name": "python3",
      "display_name": "Python 3"
    },
    "language_info": {
      "name": "python"
    }
  },
  "cells": [
    {
      "cell_type": "markdown",
      "metadata": {
        "id": "view-in-github",
        "colab_type": "text"
      },
      "source": [
        "<a href=\"https://colab.research.google.com/github/chrishg23-jpg/HES-benchmark/blob/main/Particles001.ipynb\" target=\"_parent\"><img src=\"https://colab.research.google.com/assets/colab-badge.svg\" alt=\"Open In Colab\"/></a>"
      ]
    },
    {
      "cell_type": "code",
      "source": [
        "# HES Particle Emergence Simulation v2\n",
        "# Simulates entropy gradient, curvature emergence, and particle-like excitation\n",
        "\n",
        "import numpy as np\n",
        "import matplotlib.pyplot as plt\n",
        "import matplotlib.animation as animation\n",
        "\n",
        "# Parameters\n",
        "size = 100  # lattice size\n",
        "steps = 100  # number of time steps\n",
        "mu_E_strength = 5.0  # initial entropy gradient strength\n",
        "decay = 0.95  # memory decay factor\n",
        "\n",
        "# Initialize entropy and memory fields\n",
        "entropy = np.zeros((size, size))\n",
        "memory = np.zeros_like(entropy)\n",
        "\n",
        "# Seed entropy gradient at center\n",
        "cx, cy = size // 2, size // 2\n",
        "entropy[cx-2:cx+3, cy-2:cy+3] = mu_E_strength\n",
        "\n",
        "# Setup plot\n",
        "fig, ax = plt.subplots(figsize=(6,6))\n",
        "im = ax.imshow(entropy, cmap='inferno', interpolation='bilinear')\n",
        "contour = None\n",
        "\n",
        "def update(frame):\n",
        "    global entropy, memory, contour\n",
        "    ax.clear()\n",
        "\n",
        "    # Compute curvature from entropy gradients\n",
        "    grad_x = np.roll(entropy, -1, axis=0) - np.roll(entropy, 1, axis=0)\n",
        "    grad_y = np.roll(entropy, -1, axis=1) - np.roll(entropy, 1, axis=1)\n",
        "    curvature = np.sqrt(grad_x**2 + grad_y**2)\n",
        "\n",
        "    # Update entropy and memory\n",
        "    entropy += curvature * 0.1\n",
        "    memory = decay * memory + curvature\n",
        "\n",
        "    # Detect particle-like excitation\n",
        "    particle_mask = memory > np.percentile(memory, 99)\n",
        "\n",
        "    # Plot entropy field\n",
        "    ax.set_title(f\"Step {frame}\")\n",
        "    im = ax.imshow(entropy, cmap='inferno', interpolation='bilinear')\n",
        "\n",
        "    # Overlay particle contour\n",
        "    contour = ax.contour(particle_mask, colors='cyan', linewidths=0.5)\n",
        "\n",
        "anim = animation.FuncAnimation(fig, update, frames=steps, interval=100)\n",
        "plt.show()\n",
        "\n"
      ],
      "metadata": {
        "colab": {
          "base_uri": "https://localhost:8080/",
          "height": 525
        },
        "id": "bvCXGEN0oK14",
        "outputId": "519fb225-dcec-4431-80c0-7da24dfafd9c"
      },
      "execution_count": 3,
      "outputs": [
        {
          "output_type": "display_data",
          "data": {
            "text/plain": [
              "<Figure size 600x600 with 1 Axes>"
            ],
            "image/png": "[encoded data removed]"
          },
          "metadata": {}
        }
      ]
    }
  ]
}