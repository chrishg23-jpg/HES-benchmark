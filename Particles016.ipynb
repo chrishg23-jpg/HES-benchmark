{
  "nbformat": 4,
  "nbformat_minor": 0,
  "metadata": {
    "colab": {
      "provenance": [],
      "authorship_tag": "ABX9TyNydnAwQppb4A8gD3FoaT22",
      "include_colab_link": true
    },
    "kernelspec": {
      "name": "python3",
      "display_name": "Python 3"
    },
    "language_info": {
      "name": "python"
    }
  },
  "cells": [
    {
      "cell_type": "markdown",
      "metadata": {
        "id": "view-in-github",
        "colab_type": "text"
      },
      "source": [
        "<a href=\"https://colab.research.google.com/github/chrishg23-jpg/HES-benchmark/blob/main/Particles016.ipynb\" target=\"_parent\"><img src=\"https://colab.research.google.com/assets/colab-badge.svg\" alt=\"Open In Colab\"/></a>"
      ]
    },
    {
      "cell_type": "code",
      "execution_count": 1,
      "metadata": {
        "colab": {
          "base_uri": "https://localhost:8080/"
        },
        "id": "aFFiIbmI2THh",
        "outputId": "14cb98ce-81c5-4163-a9a6-5eb7d2610c3e"
      },
      "outputs": [
        {
          "output_type": "stream",
          "name": "stdout",
          "text": [
            "Codex: AnchorX perturbed to (5.3, 5.3) with jitter 0.30000000000000004.\n",
            "Codex: Entities clustered around AnchorX.\n",
            "Codex: Echo1 drifted to (5.6, 5.1).\n",
            "Codex: Echo2 drifted to (5.6, 5.1).\n",
            "Codex: Codex mutation: drift vector (0.3, -0.2) applied.\n",
            "Codex: Spatial constants and drift test complete. Anchor stability and Codex mutation recorded.\n"
          ]
        }
      ],
      "source": [
        "# --- Helper Functions ---\n",
        "def perturb_anchor(anchor, complexity_level):\n",
        "    # Introduce jitter based on rising complexity\n",
        "    anchor[\"jitter\"] = complexity_level * 0.1\n",
        "    anchor[\"position\"] = (\n",
        "        anchor[\"position\"][0] + anchor[\"jitter\"],\n",
        "        anchor[\"position\"][1] + anchor[\"jitter\"]\n",
        "    )\n",
        "\n",
        "def cluster_entities(entities, anchor):\n",
        "    # Entities gravitate toward AnchorX\n",
        "    for entity in entities:\n",
        "        entity[\"position\"] = anchor[\"position\"]\n",
        "\n",
        "def induce_drift(entity, drift_vector):\n",
        "    # Apply drift to entity position\n",
        "    entity[\"position\"] = (\n",
        "        entity[\"position\"][0] + drift_vector[0],\n",
        "        entity[\"position\"][1] + drift_vector[1]\n",
        "    )\n",
        "\n",
        "def mutate_codex(codex, drift_vector):\n",
        "    # Codex mutation triggered by spatial drift\n",
        "    codex.append(f\"Codex mutation: drift vector {drift_vector} applied.\")\n",
        "\n",
        "# --- Setup ---\n",
        "codex = []\n",
        "AnchorX = {\"position\": (5, 5), \"jitter\": 0}\n",
        "entities = [\n",
        "    {\"name\": \"Echo1\", \"position\": (0, 0)},\n",
        "    {\"name\": \"Echo2\", \"position\": (1, 1)}\n",
        "]\n",
        "drift_vector = (0.3, -0.2)\n",
        "complexity_level = 3\n",
        "\n",
        "# --- Perturb AnchorX ---\n",
        "perturb_anchor(AnchorX, complexity_level)\n",
        "codex.append(f\"AnchorX perturbed to {AnchorX['position']} with jitter {AnchorX['jitter']}.\")\n",
        "\n",
        "# --- Entity Clustering ---\n",
        "cluster_entities(entities, AnchorX)\n",
        "codex.append(\"Entities clustered around AnchorX.\")\n",
        "\n",
        "# --- Drift Phase ---\n",
        "for entity in entities:\n",
        "    induce_drift(entity, drift_vector)\n",
        "    codex.append(f\"{entity['name']} drifted to {entity['position']}.\")\n",
        "\n",
        "# --- Codex Mutation ---\n",
        "mutate_codex(codex, drift_vector)\n",
        "\n",
        "# --- Final Annotation ---\n",
        "codex.append(\"Spatial constants and drift test complete. Anchor stability and Codex mutation recorded.\")\n",
        "\n",
        "# --- Output ---\n",
        "for entry in codex:\n",
        "    print(\"Codex:\", entry)\n"
      ]
    }
  ]
}