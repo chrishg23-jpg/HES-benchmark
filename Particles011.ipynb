{
  "nbformat": 4,
  "nbformat_minor": 0,
  "metadata": {
    "colab": {
      "provenance": [],
      "authorship_tag": "ABX9TyMv8J95EuYimTUz1XKKwDX0",
      "include_colab_link": true
    },
    "kernelspec": {
      "name": "python3",
      "display_name": "Python 3"
    },
    "language_info": {
      "name": "python"
    }
  },
  "cells": [
    {
      "cell_type": "markdown",
      "metadata": {
        "id": "view-in-github",
        "colab_type": "text"
      },
      "source": [
        "<a href=\"https://colab.research.google.com/github/chrishg23-jpg/HES-benchmark/blob/main/Particles011.ipynb\" target=\"_parent\"><img src=\"https://colab.research.google.com/assets/colab-badge.svg\" alt=\"Open In Colab\"/></a>"
      ]
    },
    {
      "cell_type": "code",
      "source": [
        "# Reversibility & Loop Closure — Minimal Working Scaffold\n",
        "\n",
        "# --- Helper Functions ---\n",
        "def generate_loop_path():\n",
        "    # Simulate a looped path (e.g., circular coordinates)\n",
        "    return [(x, y) for x, y in zip(range(5), range(5))] + [(x, y) for x, y in zip(reversed(range(5)), reversed(range(5)))]\n",
        "\n",
        "def check_loop_completion(path):\n",
        "    # Check if path returns to origin\n",
        "    return path[0] == path[-1]\n",
        "\n",
        "def check_echo_persistence(entity):\n",
        "    # Simulate echo persistence check\n",
        "    return entity.get(\"echo\", False)\n",
        "\n",
        "def measure_compression(direction):\n",
        "    # Simulate compression metric\n",
        "    return sum(range(5)) if direction == \"forward\" else sum(reversed(range(5)))\n",
        "\n",
        "def get_anchorX_links():\n",
        "    # Simulate linked entities\n",
        "    return [{\"name\": \"EchoA\"}, {\"name\": \"EchoB\"}]\n",
        "\n",
        "def reverse_motion(entity):\n",
        "    # Simulate reversal\n",
        "    entity[\"reversed\"] = True\n",
        "\n",
        "def check_stability(entity):\n",
        "    # Simulate stability check\n",
        "    return True\n",
        "\n",
        "def compare_paths(entities, mode):\n",
        "    print(f\"Comparing paths in {mode} mode...\")\n",
        "\n",
        "def highlight_echo(entity, style):\n",
        "    print(f\"Highlighting echo for {entity['name']} with style: {style}\")\n",
        "\n",
        "def compare_states(entity, caption):\n",
        "    print(f\"Comparing states for {entity['name']}: {caption}\")\n",
        "\n",
        "# --- Codex Annotation List ---\n",
        "codex = []\n",
        "\n",
        "# --- Entity Setup ---\n",
        "drifter = {\n",
        "    \"name\": \"Drifter\",\n",
        "    \"path\": [],\n",
        "    \"echo\": True,\n",
        "    \"loop_closed\": False,\n",
        "    \"echo_persisted\": False\n",
        "}\n",
        "\n",
        "# Simulate loop path\n",
        "drifter[\"path\"] = generate_loop_path()\n",
        "drifter[\"loop_closed\"] = check_loop_completion(drifter[\"path\"])\n",
        "drifter[\"echo_persisted\"] = check_echo_persistence(drifter)\n",
        "\n",
        "if drifter[\"loop_closed\"] and drifter[\"echo_persisted\"]:\n",
        "    codex.append(\"Loop closure confirmed. Echo retained.\")\n",
        "\n",
        "# Regulator setup\n",
        "regulator = {\n",
        "    \"name\": \"Regulator\",\n",
        "    \"motion\": \"forward\",\n",
        "    \"compression_forward\": measure_compression(\"forward\"),\n",
        "    \"compression_reverse\": measure_compression(\"reverse\")\n",
        "}\n",
        "\n",
        "if regulator[\"compression_forward\"] == regulator[\"compression_reverse\"]:\n",
        "    codex.append(\"Regulator compression symmetric under reversal.\")\n",
        "\n",
        "# AnchorX-linked entity reversal\n",
        "anchorX_links = get_anchorX_links()\n",
        "for entity in anchorX_links:\n",
        "    reverse_motion(entity)\n",
        "    if check_stability(entity):\n",
        "        codex.append(f\"{entity['name']} stable under reversed motion.\")\n",
        "\n",
        "# Visual overlays (simulated)\n",
        "compare_paths([drifter, regulator], mode=\"forward_reverse\")\n",
        "highlight_echo(drifter, style=\"shimmer\")\n",
        "compare_states(regulator, caption=\"Compression: Forward vs Reverse\")\n",
        "\n",
        "# Final annotation\n",
        "codex.append(\"Reversibility test complete. Memory integrity verified across loop closure.\")\n",
        "\n",
        "# Output Codex\n",
        "for entry in codex:\n",
        "    print(\"Codex:\", entry)\n"
      ],
      "metadata": {
        "colab": {
          "base_uri": "https://localhost:8080/"
        },
        "id": "JK83zxIDsR5U",
        "outputId": "ff3e5396-9a8c-4e15-b11d-60a5641fc97d"
      },
      "execution_count": 6,
      "outputs": [
        {
          "output_type": "stream",
          "name": "stdout",
          "text": [
            "Comparing paths in forward_reverse mode...\n",
            "Highlighting echo for Drifter with style: shimmer\n",
            "Comparing states for Regulator: Compression: Forward vs Reverse\n",
            "Codex: Loop closure confirmed. Echo retained.\n",
            "Codex: Regulator compression symmetric under reversal.\n",
            "Codex: EchoA stable under reversed motion.\n",
            "Codex: EchoB stable under reversed motion.\n",
            "Codex: Reversibility test complete. Memory integrity verified across loop closure.\n"
          ]
        }
      ]
    }
  ]
}