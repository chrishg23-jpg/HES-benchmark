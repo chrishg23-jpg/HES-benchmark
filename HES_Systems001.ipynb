{
  "nbformat": 4,
  "nbformat_minor": 0,
  "metadata": {
    "colab": {
      "provenance": [],
      "authorship_tag": "ABX9TyOUKojKTbvlxiVaV1CbVSEN",
      "include_colab_link": true
    },
    "kernelspec": {
      "name": "python3",
      "display_name": "Python 3"
    },
    "language_info": {
      "name": "python"
    }
  },
  "cells": [
    {
      "cell_type": "markdown",
      "metadata": {
        "id": "view-in-github",
        "colab_type": "text"
      },
      "source": [
        "<a href=\"https://colab.research.google.com/github/chrishg23-jpg/HES-benchmark/blob/main/HES_Systems001.ipynb\" target=\"_parent\"><img src=\"https://colab.research.google.com/assets/colab-badge.svg\" alt=\"Open In Colab\"/></a>"
      ]
    },
    {
      "cell_type": "code",
      "source": [
        "import numpy as np\n",
        "\n",
        "# Parameters\n",
        "num_entities = 5\n",
        "num_frames = 10\n",
        "initial_decay = 1.0\n",
        "decay_rate = 0.9\n",
        "\n",
        "# Initialize entities with random coordinates\n",
        "entities = np.random.rand(num_entities, 2)\n",
        "\n",
        "# Storage for codex entries\n",
        "codex = []\n",
        "\n",
        "# Simulation loop\n",
        "for t in range(num_frames):\n",
        "    decay = initial_decay * (decay_rate ** t)\n",
        "    frame_codex = []\n",
        "\n",
        "    for i, (x, y) in enumerate(entities):\n",
        "        # Optional: update position (e.g., drift)\n",
        "        dx, dy = 0.009 * t, 0.009 * t\n",
        "        new_x, new_y = x + dx, y + dy\n",
        "        echo_tag = f\"frame_{t}_decay_{round(decay, 3)}\"\n",
        "        frame_codex.append(f\"Codex [t={t}]: Entity_{i} at ({round(new_x, 4)}, {round(new_y, 4)}) with echo '{echo_tag}'\")\n",
        "\n",
        "    # Curvature estimate (placeholder logic)\n",
        "    curvature = round(0.05 + 0.01 * min(t, 1), 2)\n",
        "    frame_codex.append(f\"Codex [t={t}]: Recursion depth = {t}\")\n",
        "    frame_codex.append(f\"Codex [t={t}]: Curvature estimate = {curvature}\")\n",
        "\n",
        "    codex.extend(frame_codex)\n",
        "\n",
        "# Output the full codex\n",
        "for entry in codex:\n",
        "    print(entry)\n"
      ],
      "metadata": {
        "colab": {
          "base_uri": "https://localhost:8080/"
        },
        "id": "rsgzr-5lYRjY",
        "outputId": "3ea67786-d7c8-400c-845f-0f8661f732a9"
      },
      "execution_count": 11,
      "outputs": [
        {
          "output_type": "stream",
          "name": "stdout",
          "text": [
            "Codex [t=0]: Entity_0 at (0.2352, 0.9846) with echo 'frame_0_decay_1.0'\n",
            "Codex [t=0]: Entity_1 at (0.3726, 0.1336) with echo 'frame_0_decay_1.0'\n",
            "Codex [t=0]: Entity_2 at (0.6724, 0.6594) with echo 'frame_0_decay_1.0'\n",
            "Codex [t=0]: Entity_3 at (0.8119, 0.501) with echo 'frame_0_decay_1.0'\n",
            "Codex [t=0]: Entity_4 at (0.0263, 0.8455) with echo 'frame_0_decay_1.0'\n",
            "Codex [t=0]: Recursion depth = 0\n",
            "Codex [t=0]: Curvature estimate = 0.05\n",
            "Codex [t=1]: Entity_0 at (0.2442, 0.9936) with echo 'frame_1_decay_0.9'\n",
            "Codex [t=1]: Entity_1 at (0.3816, 0.1426) with echo 'frame_1_decay_0.9'\n",
            "Codex [t=1]: Entity_2 at (0.6814, 0.6684) with echo 'frame_1_decay_0.9'\n",
            "Codex [t=1]: Entity_3 at (0.8209, 0.51) with echo 'frame_1_decay_0.9'\n",
            "Codex [t=1]: Entity_4 at (0.0353, 0.8545) with echo 'frame_1_decay_0.9'\n",
            "Codex [t=1]: Recursion depth = 1\n",
            "Codex [t=1]: Curvature estimate = 0.06\n",
            "Codex [t=2]: Entity_0 at (0.2532, 1.0026) with echo 'frame_2_decay_0.81'\n",
            "Codex [t=2]: Entity_1 at (0.3906, 0.1516) with echo 'frame_2_decay_0.81'\n",
            "Codex [t=2]: Entity_2 at (0.6904, 0.6774) with echo 'frame_2_decay_0.81'\n",
            "Codex [t=2]: Entity_3 at (0.8299, 0.519) with echo 'frame_2_decay_0.81'\n",
            "Codex [t=2]: Entity_4 at (0.0443, 0.8635) with echo 'frame_2_decay_0.81'\n",
            "Codex [t=2]: Recursion depth = 2\n",
            "Codex [t=2]: Curvature estimate = 0.06\n",
            "Codex [t=3]: Entity_0 at (0.2622, 1.0116) with echo 'frame_3_decay_0.729'\n",
            "Codex [t=3]: Entity_1 at (0.3996, 0.1606) with echo 'frame_3_decay_0.729'\n",
            "Codex [t=3]: Entity_2 at (0.6994, 0.6864) with echo 'frame_3_decay_0.729'\n",
            "Codex [t=3]: Entity_3 at (0.8389, 0.528) with echo 'frame_3_decay_0.729'\n",
            "Codex [t=3]: Entity_4 at (0.0533, 0.8725) with echo 'frame_3_decay_0.729'\n",
            "Codex [t=3]: Recursion depth = 3\n",
            "Codex [t=3]: Curvature estimate = 0.06\n",
            "Codex [t=4]: Entity_0 at (0.2712, 1.0206) with echo 'frame_4_decay_0.656'\n",
            "Codex [t=4]: Entity_1 at (0.4086, 0.1696) with echo 'frame_4_decay_0.656'\n",
            "Codex [t=4]: Entity_2 at (0.7084, 0.6954) with echo 'frame_4_decay_0.656'\n",
            "Codex [t=4]: Entity_3 at (0.8479, 0.537) with echo 'frame_4_decay_0.656'\n",
            "Codex [t=4]: Entity_4 at (0.0623, 0.8815) with echo 'frame_4_decay_0.656'\n",
            "Codex [t=4]: Recursion depth = 4\n",
            "Codex [t=4]: Curvature estimate = 0.06\n",
            "Codex [t=5]: Entity_0 at (0.2802, 1.0296) with echo 'frame_5_decay_0.59'\n",
            "Codex [t=5]: Entity_1 at (0.4176, 0.1786) with echo 'frame_5_decay_0.59'\n",
            "Codex [t=5]: Entity_2 at (0.7174, 0.7044) with echo 'frame_5_decay_0.59'\n",
            "Codex [t=5]: Entity_3 at (0.8569, 0.546) with echo 'frame_5_decay_0.59'\n",
            "Codex [t=5]: Entity_4 at (0.0713, 0.8905) with echo 'frame_5_decay_0.59'\n",
            "Codex [t=5]: Recursion depth = 5\n",
            "Codex [t=5]: Curvature estimate = 0.06\n",
            "Codex [t=6]: Entity_0 at (0.2892, 1.0386) with echo 'frame_6_decay_0.531'\n",
            "Codex [t=6]: Entity_1 at (0.4266, 0.1876) with echo 'frame_6_decay_0.531'\n",
            "Codex [t=6]: Entity_2 at (0.7264, 0.7134) with echo 'frame_6_decay_0.531'\n",
            "Codex [t=6]: Entity_3 at (0.8659, 0.555) with echo 'frame_6_decay_0.531'\n",
            "Codex [t=6]: Entity_4 at (0.0803, 0.8995) with echo 'frame_6_decay_0.531'\n",
            "Codex [t=6]: Recursion depth = 6\n",
            "Codex [t=6]: Curvature estimate = 0.06\n",
            "Codex [t=7]: Entity_0 at (0.2982, 1.0476) with echo 'frame_7_decay_0.478'\n",
            "Codex [t=7]: Entity_1 at (0.4356, 0.1966) with echo 'frame_7_decay_0.478'\n",
            "Codex [t=7]: Entity_2 at (0.7354, 0.7224) with echo 'frame_7_decay_0.478'\n",
            "Codex [t=7]: Entity_3 at (0.8749, 0.564) with echo 'frame_7_decay_0.478'\n",
            "Codex [t=7]: Entity_4 at (0.0893, 0.9085) with echo 'frame_7_decay_0.478'\n",
            "Codex [t=7]: Recursion depth = 7\n",
            "Codex [t=7]: Curvature estimate = 0.06\n",
            "Codex [t=8]: Entity_0 at (0.3072, 1.0566) with echo 'frame_8_decay_0.43'\n",
            "Codex [t=8]: Entity_1 at (0.4446, 0.2056) with echo 'frame_8_decay_0.43'\n",
            "Codex [t=8]: Entity_2 at (0.7444, 0.7314) with echo 'frame_8_decay_0.43'\n",
            "Codex [t=8]: Entity_3 at (0.8839, 0.573) with echo 'frame_8_decay_0.43'\n",
            "Codex [t=8]: Entity_4 at (0.0983, 0.9175) with echo 'frame_8_decay_0.43'\n",
            "Codex [t=8]: Recursion depth = 8\n",
            "Codex [t=8]: Curvature estimate = 0.06\n",
            "Codex [t=9]: Entity_0 at (0.3162, 1.0656) with echo 'frame_9_decay_0.387'\n",
            "Codex [t=9]: Entity_1 at (0.4536, 0.2146) with echo 'frame_9_decay_0.387'\n",
            "Codex [t=9]: Entity_2 at (0.7534, 0.7404) with echo 'frame_9_decay_0.387'\n",
            "Codex [t=9]: Entity_3 at (0.8929, 0.582) with echo 'frame_9_decay_0.387'\n",
            "Codex [t=9]: Entity_4 at (0.1073, 0.9265) with echo 'frame_9_decay_0.387'\n",
            "Codex [t=9]: Recursion depth = 9\n",
            "Codex [t=9]: Curvature estimate = 0.06\n"
          ]
        }
      ]
    }
  ]
}